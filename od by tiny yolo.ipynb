{
 "cells": [
  {
   "cell_type": "code",
   "execution_count": null,
   "metadata": {},
   "outputs": [
    {
     "name": "stderr",
     "output_type": "stream",
     "text": [
      "<>:11: SyntaxWarning: invalid escape sequence '\\D'\n",
      "<>:11: SyntaxWarning: invalid escape sequence '\\D'\n",
      "C:\\Users\\varsh\\AppData\\Local\\Temp\\ipykernel_27484\\2315317322.py:11: SyntaxWarning: invalid escape sequence '\\D'\n",
      "  model_path = \"C:/Users/varsh\\Desktop/video_processing_project/tiny-yolov3.pt\"\n",
      "C:\\Users\\varsh\\AppData\\Local\\Packages\\PythonSoftwareFoundation.Python.3.12_qbz5n2kfra8p0\\LocalCache\\local-packages\\Python312\\site-packages\\tqdm\\auto.py:21: TqdmWarning: IProgress not found. Please update jupyter and ipywidgets. See https://ipywidgets.readthedocs.io/en/stable/user_install.html\n",
      "  from .autonotebook import tqdm as notebook_tqdm\n"
     ]
    },
    {
     "name": "stdout",
     "output_type": "stream",
     "text": [
      "* Running on local URL:  http://127.0.0.1:7861\n",
      "\n",
      "To create a public link, set `share=True` in `launch()`.\n"
     ]
    },
    {
     "data": {
      "text/html": [
       "<div><iframe src=\"http://127.0.0.1:7861/\" width=\"100%\" height=\"500\" allow=\"autoplay; camera; microphone; clipboard-read; clipboard-write;\" frameborder=\"0\" allowfullscreen></iframe></div>"
      ],
      "text/plain": [
       "<IPython.core.display.HTML object>"
      ]
     },
     "metadata": {},
     "output_type": "display_data"
    },
    {
     "name": "stdout",
     "output_type": "stream",
     "text": [
      "Gradio app is running. Use the link above to test.\n"
     ]
    }
   ],
   "source": [
    "import gradio as gr\n",
    "from imageai.Detection import VideoObjectDetection\n",
    "import os\n",
    "import shutil\n",
    "import warnings\n",
    "# Suppress ResourceWarning if non-critical\n",
    "warnings.filterwarnings(\"ignore\", category=ResourceWarning)\n",
    "# Function for object detection\n",
    "def detect_objects(video_path):\n",
    "    detector = VideoObjectDetection()\n",
    "    model_path = \"C:/Users/varsh\\Desktop/video_processing_project/tiny-yolov3.pt\"\n",
    "\n",
    "    # Check if the model file exists\n",
    "    if not os.path.exists(model_path):\n",
    "        return \"Error: Model file not found!\"\n",
    "    print(\"Model path:\", model_path)\n",
    "    detector.setModelTypeAsTinyYOLOv3()\n",
    "    detector.setModelPath(model_path)\n",
    "    detector.loadModel()\n",
    "    # Define paths for input and output\n",
    "    input_path = \"input_video.mp4\"\n",
    "    output_path = \"output_video.mp4\"  # Expected output path\n",
    "    final_output_path = \"output_video_final.mp4\"  # Renamed output path\n",
    "    # Copy uploaded video to the input path\n",
    "    shutil.copy(video_path, input_path)\n",
    "    print(\"Input video path:\", input_path)\n",
    "    print(\"Output video path:\", output_path)\n",
    "    # Perform object detection\n",
    "    try:\n",
    "        detection_results = detector.detectObjectsFromVideo(\n",
    "            input_file_path=input_path,\n",
    "            output_file_path=output_path,\n",
    "            frames_per_second=10,\n",
    "            minimum_percentage_probability=20,  # Lowered for better detection\n",
    "            save_detected_video=True\n",
    "        )\n",
    "        print(\"Detection results:\", detection_results)\n",
    "    except Exception as e:\n",
    "        print(\"Error during detection:\", str(e))\n",
    "        return f\"Error during detection: {str(e)}\"\n",
    "    # Check if the file with double extension exists\n",
    "    if os.path.exists(output_path + \".mp4\"):\n",
    "        shutil.move(output_path + \".mp4\", final_output_path)\n",
    "        return final_output_path\n",
    "    # Check if the regular output file exists\n",
    "    if os.path.exists(output_path):\n",
    "        shutil.move(output_path, final_output_path)\n",
    "        return final_output_path\n",
    "    return \"Error: Output video was not generated!\"\n",
    "# Gradio interface\n",
    "interface2 = gr.Interface(\n",
    "    fn=detect_objects,\n",
    "    inputs=gr.Video(label=\"Upload Video\"),\n",
    "    outputs=gr.File(label=\"Detected Video\"),\n",
    "    title=\"Object Detection Using Tiny YOLO\"\n",
    ")\n",
    "# Launch Gradio app\n",
    "app = interface2.launch()\n",
    "# Ensure cleanup on exit\n",
    "try:\n",
    "    print(\"Gradio app is running. Use the link above to test.\")\n",
    "    input(\"Press Enter to stop the app...\\n\")\n",
    "finally:\n",
    "    #app.close()\n",
    "    print(\"Gradio app closed.\")"
   ]
  }
 ],
 "metadata": {
  "kernelspec": {
   "display_name": "Python 3",
   "language": "python",
   "name": "python3"
  },
  "language_info": {
   "codemirror_mode": {
    "name": "ipython",
    "version": 3
   },
   "file_extension": ".py",
   "mimetype": "text/x-python",
   "name": "python",
   "nbconvert_exporter": "python",
   "pygments_lexer": "ipython3",
   "version": "3.12.8"
  }
 },
 "nbformat": 4,
 "nbformat_minor": 2
}
