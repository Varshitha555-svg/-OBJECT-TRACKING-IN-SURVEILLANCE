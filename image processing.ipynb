{
"cells": [
  {
   "cell_type": "code",
   "execution_count": 1,
   "metadata": {},
   "outputs": [
    {
     "name": "stderr",
     "output_type": "stream",
     "text": [
      "C:\\Users\\varsh\\AppData\\Local\\Packages\\PythonSoftwareFoundation.Python.3.12_qbz5n2kfra8p0\\LocalCache\\local-packages\\Python312\\site-packages\\tqdm\\auto.py:21: TqdmWarning: IProgress not found. Please update jupyter and ipywidgets. See https://ipywidgets.readthedocs.io/en/stable/user_install.html\n",
      "  from .autonotebook import tqdm as notebook_tqdm\n"
     ]
    },
    {
     "name": "stdout",
     "output_type": "stream",
     "text": [
      "* Running on local URL:  http://127.0.0.1:7860\n",
      "\n",
      "To create a public link, set `share=True` in `launch()`.\n"
     ]
    },
    {
     "data": {
      "text/html": [
       "<div><iframe src=\"http://127.0.0.1:7860/\" width=\"100%\" height=\"500\" allow=\"autoplay; camera; microphone; clipboard-read; clipboard-write;\" frameborder=\"0\" allowfullscreen></iframe></div>"
      ],
      "text/plain": [
       "<IPython.core.display.HTML object>"
      ]
     },
     "metadata": {},
     "output_type": "display_data"
    },
    {
     "data": {
      "text/plain": []
     },
     "execution_count": 1,
     "metadata": {},
     "output_type": "execute_result"
    }
   ],
   "source": [
    "import gradio as gr\n",
    "import cv2\n",
    "import numpy as np\n",
    "from matplotlib import pyplot as plt\n",
    "# Function for processing the image\n",
    "def process_image(image, action):\n",
    "    image = cv2.cvtColor(image, cv2.COLOR_BGR2RGB)  # Convert BGR to RGB for display\n",
    "    if action == \"View RGB Channels\":\n",
    "        channels = [image[:, :, i] for i in range(3)]  # Split into R, G, B\n",
    "        fig, axs = plt.subplots(1, 3, figsize=(10, 5))\n",
    "        for i, channel in enumerate(channels):\n",
    "            axs[i].imshow(channel, cmap=[\"Reds\", \"Greens\", \"Blues\"][i])\n",
    "            axs[i].axis('off')\n",
    "            axs[i].set_title([\"Red\", \"Green\", \"Blue\"][i])\n",
    "        plt.tight_layout()\n",
    "        plt.savefig(\"rgb_channels.png\")\n",
    "        plt.close()\n",
    "        return cv2.imread(\"rgb_channels.png\")  # Return the saved image as output\n",
    "    elif action == \"Apply Gaussian Blur\":\n",
    "        blurred = cv2.GaussianBlur(image, (15, 15), 0)\n",
    "        return blurred  # Return blurred image\n",
    "    elif action == \"Pixel Intensity Histogram\":\n",
    "        plt.hist(image.ravel(), bins=256, range=(0, 256))\n",
    "        plt.title(\"Pixel Intensity Histogram\")\n",
    "        plt.xlabel(\"Pixel Value\")\n",
    "        plt.ylabel(\"Frequency\")\n",
    "        plt.savefig(\"histogram.png\")\n",
    "        plt.close()\n",
    "        return cv2.imread(\"histogram.png\")  # Return the saved histogram image\n",
    "# Gradio interface\n",
    "interface1 = gr.Interface(\n",
    "    fn=process_image,\n",
    "    inputs=[\n",
    "        gr.Image(type=\"numpy\", label=\"Upload Image\"),\n",
    "        gr.Radio([\"View RGB Channels\", \"Apply Gaussian Blur\", \"Pixel Intensity Histogram\"], label=\"Action\")\n",
    "    ],\n",
    "    outputs=gr.Image(type=\"numpy\", label=\"Output Image\"),\n",
    "    title=\"Image Processing Using OpenCV\"\n",
    ")\n",
    " # Launch\n",
    "interface1.launch()"
   ]
  }
 ],
 "metadata": {
  "kernelspec": {
   "display_name": "Python 3",
   "language": "python",
   "name": "python3"
  },
  "language_info": {
   "codemirror_mode": {
    "name": "ipython",
    "version": 3
   },
   "file_extension": ".py",
   "mimetype": "text/x-python",
   "name": "python",
   "nbconvert_exporter": "python",
   "pygments_lexer": "ipython3",
   "version": "3.12.8"
  }
 },
 "nbformat": 4,
 "nbformat_minor": 2
}
